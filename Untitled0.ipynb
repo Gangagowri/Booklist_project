{
  "nbformat": 4,
  "nbformat_minor": 0,
  "metadata": {
    "colab": {
      "provenance": [],
      "authorship_tag": "ABX9TyMhXbTrLO4temnl1fjRNiDY",
      "include_colab_link": true
    },
    "kernelspec": {
      "name": "python3",
      "display_name": "Python 3"
    },
    "language_info": {
      "name": "python"
    }
  },
  "cells": [
    {
      "cell_type": "markdown",
      "metadata": {
        "id": "view-in-github",
        "colab_type": "text"
      },
      "source": [
        "<a href=\"https://colab.research.google.com/github/Gangagowri/Booklist_project/blob/main/Untitled0.ipynb\" target=\"_parent\"><img src=\"https://colab.research.google.com/assets/colab-badge.svg\" alt=\"Open In Colab\"/></a>"
      ]
    },
    {
      "cell_type": "code",
      "execution_count": 2,
      "metadata": {
        "colab": {
          "base_uri": "https://localhost:8080/"
        },
        "id": "OCV91QL7SnaI",
        "outputId": "6d154672-b04a-4023-d4fe-0d5d3ba79743"
      },
      "outputs": [
        {
          "output_type": "stream",
          "name": "stdout",
          "text": [
            "Original Output: Original Output\n",
            "Original Inference Time: 1.0004055500030518 seconds\n",
            "\n",
            "Optimized Output: Optimized Output\n",
            "Optimized Inference Time: 0.5003025531768799 seconds\n",
            "\n",
            "GPU Memory Allocated: 0.0 MB\n"
          ]
        }
      ],
      "source": [
        "\n",
        "import time\n",
        "import torch\n",
        "\n",
        "def original_inference():\n",
        "\n",
        "    time.sleep(1)\n",
        "    return \"Original Output\"\n",
        "\n",
        "start = time.time()\n",
        "original_output = original_inference()\n",
        "end = time.time()\n",
        "original_time = end - start\n",
        "\n",
        "print(\"Original Output:\", original_output)\n",
        "print(\"Original Inference Time:\", original_time, \"seconds\")\n",
        "def optimized_inference():\n",
        "\n",
        "    time.sleep(0.5)\n",
        "    return \"Optimized Output\"\n",
        "\n",
        "start = time.time()\n",
        "optimized_output = optimized_inference()\n",
        "end = time.time()\n",
        "optimized_time = end - start\n",
        "\n",
        "print(\"\\nOptimized Output:\", optimized_output)\n",
        "print(\"Optimized Inference Time:\", optimized_time, \"seconds\")\n",
        "\n",
        "print(\"\\nGPU Memory Allocated:\", torch.cuda.memory_allocated() / 1024 ** 2, \"MB\")\n"
      ]
    }
  ]
}